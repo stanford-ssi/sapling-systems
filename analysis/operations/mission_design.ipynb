{
 "cells": [
  {
   "cell_type": "code",
   "execution_count": 1,
   "id": "0cbbd3f2-147b-4438-9ccc-f4d017d79ab8",
   "metadata": {},
   "outputs": [],
   "source": [
    "using SatelliteToolbox"
   ]
  },
  {
   "cell_type": "code",
   "execution_count": 20,
   "id": "cb74b365-30c3-45f5-8d65-725557bee3c0",
   "metadata": {},
   "outputs": [
    {
     "data": {
      "text/plain": [
       "0"
      ]
     },
     "execution_count": 20,
     "metadata": {},
     "output_type": "execute_result"
    }
   ],
   "source": [
    "altitude = 525 # km\n",
    "a = geodetic_to_geocentric(0, altitude)[2]\n",
    "e = 0"
   ]
  },
  {
   "cell_type": "code",
   "execution_count": 21,
   "id": "ff2439e8-d585-44f4-be65-b128127c1f11",
   "metadata": {},
   "outputs": [
    {
     "data": {
      "text/plain": [
       "1.6699077349938647"
      ]
     },
     "execution_count": 21,
     "metadata": {},
     "output_type": "execute_result"
    }
   ],
   "source": [
    "i = compute_ss_orbit_by_semi_major_axis(a, e)"
   ]
  },
  {
   "cell_type": "code",
   "execution_count": 22,
   "id": "b816ac86-61b3-4352-a3f4-88ba585a762b",
   "metadata": {},
   "outputs": [
    {
     "data": {
      "text/plain": [
       "95.67866539139918"
      ]
     },
     "execution_count": 22,
     "metadata": {},
     "output_type": "execute_result"
    }
   ],
   "source": [
    "rad2deg(i)"
   ]
  },
  {
   "cell_type": "code",
   "execution_count": 23,
   "id": "4664ad1a-052b-45a7-80b1-f1a247101785",
   "metadata": {},
   "outputs": [
    {
     "data": {
      "text/plain": [
       "5077.891648221353"
      ]
     },
     "execution_count": 23,
     "metadata": {},
     "output_type": "execute_result"
    }
   ],
   "source": [
    "T = period(a, e, i)"
   ]
  },
  {
   "cell_type": "code",
   "execution_count": 27,
   "id": "653abe3a-de01-4f5f-a61e-f19a6e8cecb6",
   "metadata": {},
   "outputs": [
    {
     "data": {
      "text/plain": [
       "1.4105254578392645"
      ]
     },
     "execution_count": 27,
     "metadata": {},
     "output_type": "execute_result"
    }
   ],
   "source": [
    "h = T / 3600"
   ]
  },
  {
   "cell_type": "code",
   "execution_count": 29,
   "id": "50fe70d0-e5e4-4a09-9c5a-ea284f6af9dc",
   "metadata": {},
   "outputs": [
    {
     "data": {
      "text/plain": [
       "24.63152747035587"
      ]
     },
     "execution_count": 29,
     "metadata": {},
     "output_type": "execute_result"
    }
   ],
   "source": [
    "m = (h - floor(T / 3600)) * 60"
   ]
  },
  {
   "cell_type": "code",
   "execution_count": 30,
   "id": "ef9b0bb9-b581-4953-b9a9-124fc47d8889",
   "metadata": {},
   "outputs": [
    {
     "data": {
      "text/plain": [
       "37.8916482213522"
      ]
     },
     "execution_count": 30,
     "metadata": {},
     "output_type": "execute_result"
    }
   ],
   "source": [
    "s = (m - floor(m)) * 60"
   ]
  },
  {
   "cell_type": "code",
   "execution_count": null,
   "id": "2935acec-6788-4da7-b8e8-26dbc9a18fe8",
   "metadata": {},
   "outputs": [],
   "source": []
  }
 ],
 "metadata": {
  "kernelspec": {
   "display_name": "Julia 1.7.2",
   "language": "julia",
   "name": "julia-1.7"
  },
  "language_info": {
   "file_extension": ".jl",
   "mimetype": "application/julia",
   "name": "julia",
   "version": "1.7.2"
  }
 },
 "nbformat": 4,
 "nbformat_minor": 5
}
