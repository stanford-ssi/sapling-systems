{
 "cells": [
  {
   "cell_type": "code",
   "execution_count": 2,
   "id": "6d333a6e-7050-42eb-a03a-acc6057ccf72",
   "metadata": {},
   "outputs": [],
   "source": [
    "using SatelliteToolbox"
   ]
  },
  {
   "cell_type": "code",
   "execution_count": 10,
   "id": "f3dfa57b-67f2-45e0-b6d8-dc51fdbb6d95",
   "metadata": {},
   "outputs": [],
   "source": [
    "h = 525; # km\n",
    "r_earth_equatorial = 6378; # km\n",
    "a = (h + r_earth_equatorial) * 1000;\n",
    "e = 0; # rad"
   ]
  },
  {
   "cell_type": "code",
   "execution_count": 12,
   "id": "f8f40405-662d-4b46-93bb-e25cb9bb9702",
   "metadata": {},
   "outputs": [
    {
     "data": {
      "text/plain": [
       "1.5695653212957381"
      ]
     },
     "execution_count": 12,
     "metadata": {},
     "output_type": "execute_result"
    }
   ],
   "source": [
    "i = compute_ss_orbit_by_semi_major_axis(a, e)"
   ]
  },
  {
   "cell_type": "code",
   "execution_count": 16,
   "id": "0096dd0b-cf02-4c9b-aa34-83d01590be07",
   "metadata": {},
   "outputs": [
    {
     "data": {
      "text/plain": [
       "89.92946858034082"
      ]
     },
     "execution_count": 16,
     "metadata": {},
     "output_type": "execute_result"
    }
   ],
   "source": [
    "rad2deg(i)"
   ]
  },
  {
   "cell_type": "code",
   "execution_count": 17,
   "id": "613caa72-3de8-4f50-8147-c99e838f1b29",
   "metadata": {},
   "outputs": [
    {
     "data": {
      "text/plain": [
       "5715.711518156539"
      ]
     },
     "execution_count": 17,
     "metadata": {},
     "output_type": "execute_result"
    }
   ],
   "source": [
    "T = period(a, e, i)"
   ]
  },
  {
   "cell_type": "code",
   "execution_count": 20,
   "id": "85164a99-b4e4-4e2b-8e4b-c5c3d6da6e00",
   "metadata": {},
   "outputs": [
    {
     "data": {
      "text/plain": [
       "95.26185863594232"
      ]
     },
     "execution_count": 20,
     "metadata": {},
     "output_type": "execute_result"
    }
   ],
   "source": [
    "min = T / 60;\n",
    "min"
   ]
  },
  {
   "cell_type": "code",
   "execution_count": 23,
   "id": "da6bb02b-3f32-4ef4-a473-a01e9f161140",
   "metadata": {},
   "outputs": [
    {
     "data": {
      "text/plain": [
       "15.71151815653866"
      ]
     },
     "execution_count": 23,
     "metadata": {},
     "output_type": "execute_result"
    }
   ],
   "source": [
    "sec = (T - 95 * 60)"
   ]
  },
  {
   "cell_type": "code",
   "execution_count": null,
   "id": "5a5acfe1-73b4-42dd-b21f-27c8ceb4cdc9",
   "metadata": {},
   "outputs": [],
   "source": []
  }
 ],
 "metadata": {
  "kernelspec": {
   "display_name": "Julia 1.7.2",
   "language": "julia",
   "name": "julia-1.7"
  },
  "language_info": {
   "file_extension": ".jl",
   "mimetype": "application/julia",
   "name": "julia",
   "version": "1.7.2"
  }
 },
 "nbformat": 4,
 "nbformat_minor": 5
}
