{
 "cells": [
  {
   "cell_type": "code",
   "execution_count": 2,
   "id": "24377b60-4a0a-4261-bff5-a4116edbdbcc",
   "metadata": {},
   "outputs": [],
   "source": [
    "from astropy import units as u\n",
    "import numpy as np"
   ]
  },
  {
   "cell_type": "markdown",
   "id": "8b0c0c3a-84ea-4089-a667-a71cbd6f2d8f",
   "metadata": {},
   "source": [
    "# GSD"
   ]
  },
  {
   "cell_type": "code",
   "execution_count": 5,
   "id": "357f8283-d582-498d-a339-bcf13317d38a",
   "metadata": {},
   "outputs": [
    {
     "data": {
      "text/latex": [
       "$140 \\; \\mathrm{m}$"
      ],
      "text/plain": [
       "<Quantity 140. m>"
      ]
     },
     "execution_count": 5,
     "metadata": {},
     "output_type": "execute_result"
    }
   ],
   "source": [
    "(1.4 * u.micrometer * 250 * u.km / (2.5 * u.mm)).to(u.meter)"
   ]
  },
  {
   "cell_type": "markdown",
   "id": "9173f2a4-c37a-48d0-9bb2-22314862bacc",
   "metadata": {},
   "source": [
    "# collection volume in area per unit time per spacecraft"
   ]
  },
  {
   "cell_type": "code",
   "execution_count": 18,
   "id": "7af3ceeb-d7d3-4df2-ab11-8a52e0873e52",
   "metadata": {},
   "outputs": [],
   "source": [
    "fov = 87.6 * u.degree\n",
    "earth_radius = 6371 * u.km\n",
    "sapling_altitude = 300 * u.km\n",
    "sapling_orbital_period = 90.57 * u.minute"
   ]
  },
  {
   "cell_type": "markdown",
   "id": "302e2998-31cd-45f9-90db-6634b3d1f1d3",
   "metadata": {},
   "source": [
    "![](./licensing/noaa/imgs/sphere.png)"
   ]
  },
  {
   "cell_type": "code",
   "execution_count": 19,
   "id": "385e6b56-d8e8-44eb-964a-a20d304a5f8b",
   "metadata": {},
   "outputs": [],
   "source": [
    "view_inner_radius = 2.647 * u.degree # calculated with desmos and trig"
   ]
  },
  {
   "cell_type": "markdown",
   "id": "fb0f9f6a-5a84-4df4-87a8-170cd75c455d",
   "metadata": {},
   "source": [
    "### area enclosed by circle on sphere\n",
    "$$ 2\\pi r^2 \\cdot (1 - \\cos(\\theta))$$"
   ]
  },
  {
   "cell_type": "code",
   "execution_count": 20,
   "id": "fc28d314-9e17-457c-aa8f-0d398c6d9940",
   "metadata": {},
   "outputs": [],
   "source": [
    "area_in_view = 2 * np.pi * earth_radius ** 2 * (1 - np.cos(view_inner_radius))"
   ]
  },
  {
   "cell_type": "code",
   "execution_count": 21,
   "id": "26b6c953-c6ca-4c4f-99cc-35443c254a7a",
   "metadata": {},
   "outputs": [
    {
     "data": {
      "text/latex": [
       "$40030.174 \\; \\mathrm{km}$"
      ],
      "text/plain": [
       "<Quantity 40030.17359204 km>"
      ]
     },
     "execution_count": 21,
     "metadata": {},
     "output_type": "execute_result"
    }
   ],
   "source": [
    "earth_c = 2 * np.pi * earth_radius\n",
    "earth_c"
   ]
  },
  {
   "cell_type": "code",
   "execution_count": 22,
   "id": "da68f977-fced-4dc9-af2e-0a7f937213bd",
   "metadata": {},
   "outputs": [],
   "source": [
    "greate_circle_displacement = 1 * u.minute / sapling_orbital_period * earth_c"
   ]
  },
  {
   "cell_type": "code",
   "execution_count": 23,
   "id": "251effd9-3306-40b5-b818-75696dea98e8",
   "metadata": {},
   "outputs": [
    {
     "data": {
      "text/latex": [
       "$441.9805 \\; \\mathrm{km}$"
      ],
      "text/plain": [
       "<Quantity 441.98049677 km>"
      ]
     },
     "execution_count": 23,
     "metadata": {},
     "output_type": "execute_result"
    }
   ],
   "source": [
    "greate_circle_displacement"
   ]
  },
  {
   "cell_type": "code",
   "execution_count": 24,
   "id": "a9a9fac5-782e-48e2-b09d-179aa13cab40",
   "metadata": {},
   "outputs": [
    {
     "data": {
      "text/latex": [
       "$294.22828 \\; \\mathrm{km}$"
      ],
      "text/plain": [
       "<Quantity 294.22828113 km>"
      ]
     },
     "execution_count": 24,
     "metadata": {},
     "output_type": "execute_result"
    }
   ],
   "source": [
    "np.sin(view_inner_radius) * earth_radius"
   ]
  },
  {
   "cell_type": "code",
   "execution_count": 25,
   "id": "2e407bb3-5324-4158-87d7-d7883a4c4055",
   "metadata": {},
   "outputs": [
    {
     "data": {
      "text/plain": [
       "220.99025"
      ]
     },
     "execution_count": 25,
     "metadata": {},
     "output_type": "execute_result"
    }
   ],
   "source": [
    "441.9805 / 2"
   ]
  },
  {
   "cell_type": "code",
   "execution_count": 26,
   "id": "63d096be-1711-4b10-96fb-64ce35266ea0",
   "metadata": {},
   "outputs": [
    {
     "data": {
      "text/latex": [
       "$544227.46 \\; \\mathrm{km^{2}}$"
      ],
      "text/plain": [
       "<Quantity 544227.45955155 km2>"
      ]
     },
     "execution_count": 26,
     "metadata": {},
     "output_type": "execute_result"
    }
   ],
   "source": [
    "area_in_view * 2 # yes, the sensors are rectangles, and yes, there is overlap, \n",
    "                 # but I (Flynn) think this is good to a first approximation"
   ]
  }
 ],
 "metadata": {
  "kernelspec": {
   "display_name": "Python 3 (ipykernel)",
   "language": "python",
   "name": "python3"
  },
  "language_info": {
   "codemirror_mode": {
    "name": "ipython",
    "version": 3
   },
   "file_extension": ".py",
   "mimetype": "text/x-python",
   "name": "python",
   "nbconvert_exporter": "python",
   "pygments_lexer": "ipython3",
   "version": "3.9.7"
  }
 },
 "nbformat": 4,
 "nbformat_minor": 5
}
